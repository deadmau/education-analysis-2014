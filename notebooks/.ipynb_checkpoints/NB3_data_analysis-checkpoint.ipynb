{
 "metadata": {
  "name": ""
 },
 "nbformat": 3,
 "nbformat_minor": 0,
 "worksheets": [
  {
   "cells": [
    {
     "cell_type": "markdown",
     "metadata": {},
     "source": [
      "In this notebook, you'll perform the actual analysis of the data stored in the directory\n",
      "\n",
      "    ./data/cleaned\n",
      "\n",
      "If the data is not ready yet (e.g. the other members of the team in charge of cleaning the data are not done yet), you may want to simulate cleaned data in the form you want them to be in order to perform the analysis. This may also help you data cleaning team to come up with the rigth data frame. \n",
      "If you choose to do so, store your simulated data into the directory\n",
      "\n",
      "    ./data/simulated\n",
      "    \n",
      "Having performed analysis of simulated data may help you with the analysis of the actual data, since you will be able to notice deviations between the real and simulated data, which may be worth explaining and investigating further.\n",
      "\n",
      "The graphics your going to produce as a result of your analysis should be store in the directory:\n",
      "\n",
      "\n",
      "    ./visualization\n",
      "\n"
     ]
    },
    {
     "cell_type": "markdown",
     "metadata": {},
     "source": [
      "##Team members responsible for this notebook:\n",
      "\n",
      "List the team members contributing to this notebook, along with their responsabilities:\n",
      "\n",
      "* team member 1 **name**: team member 1 **responsabilities**\n",
      "* team member 2 **name**: team member 2 **responsabilities**\n",
      "* etc.\n",
      "\n",
      "I advise you to work at least in pairs for each project notebook, as you did for the homework assignments. Of course, all team members may participate to each notebook. "
     ]
    },
    {
     "cell_type": "code",
     "collapsed": false,
     "input": [
      "from IPython.display import HTML\n",
      "import pickle\n",
      "\n",
      "part1 = \"\"\"<html>\n",
      "            <head>\n",
      "                <script type=\"text/javascript\">\n",
      "                    function setVisibility() {\n",
      "                        document.getElementById('iframe1').style.display = \"block\";\n",
      "                    }\n",
      "                </script>\n",
      "                <style type=\"text/css\">\n",
      "                    #iframe1 {\n",
      "                        display:none;\n",
      "                    }\n",
      "                </style>\n",
      "                <noscript>\n",
      "                <style type=\"text/css\">\n",
      "                    #iframe1 {\n",
      "                        display:block;\n",
      "                    }\n",
      "                </style>\n",
      "                </noscript>\n",
      "            </head>\n",
      "            <body>\n",
      "                <iframe src=\"http://www.wordle.net/advanced\" name=\"myFrame\" width=\"920\" height=\"680\" scrolling=\"auto\" frameborder=\"1\" id=\"iframe1\"></iframe>\n",
      "                    <form action=\"http://www.wordle.net/advanced\" target=\"myFrame\" method=\"post\">\n",
      "                        <textarea name=\"wordcounts\" id=\"wordcounts\">\"\"\"\n",
      "\n",
      "part2 =              \"\"\"</textarea>\n",
      "                        <input type=\"submit\" value=\"Go!\" name=\"type\" onclick=\"setVisibility();\">\n",
      "                    </form>\n",
      "            </body>\n",
      "            </html>\"\"\"\n",
      "\n",
      "f = open('../data/simulated/test.pkl', 'rb')\n",
      "text = pickle.load(f)\n",
      "f.close\n",
      "\n",
      "HTML(part1+text+part2)"
     ],
     "language": "python",
     "metadata": {},
     "outputs": [
      {
       "html": [
        "<html>\n",
        "            <head>\n",
        "                <script type=\"text/javascript\">\n",
        "                    function setVisibility() {\n",
        "                        document.getElementById('iframe1').style.display = \"block\";\n",
        "                    }\n",
        "                </script>\n",
        "                <style type=\"text/css\">\n",
        "                    #iframe1 {\n",
        "                        display:none;\n",
        "                    }\n",
        "                </style>\n",
        "                <noscript>\n",
        "                <style type=\"text/css\">\n",
        "                    #iframe1 {\n",
        "                        display:block;\n",
        "                    }\n",
        "                </style>\n",
        "                </noscript>\n",
        "            </head>\n",
        "            <body>\n",
        "                <iframe src=\"http://www.wordle.net/advanced\" name=\"myFrame\" width=\"920\" height=\"680\" scrolling=\"auto\" frameborder=\"1\" id=\"iframe1\"></iframe>\n",
        "                    <form action=\"http://www.wordle.net/advanced\" target=\"myFrame\" method=\"post\">\n",
        "                        <textarea name=\"wordcounts\" id=\"wordcounts\">hate:33, college:40, cost:23, shit:20</textarea>\n",
        "                        <input type=\"submit\" value=\"Go!\" name=\"type\" onclick=\"setVisibility();\">\n",
        "                    </form>\n",
        "            </body>\n",
        "            </html>"
       ],
       "metadata": {},
       "output_type": "pyout",
       "prompt_number": 28,
       "text": [
        "<IPython.core.display.HTML at 0x1036c7b90>"
       ]
      }
     ],
     "prompt_number": 28
    }
   ],
   "metadata": {}
  }
 ]
}